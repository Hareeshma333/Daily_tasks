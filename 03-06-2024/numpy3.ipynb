{
  "nbformat": 4,
  "nbformat_minor": 0,
  "metadata": {
    "colab": {
      "provenance": []
    },
    "kernelspec": {
      "name": "python3",
      "display_name": "Python 3"
    },
    "language_info": {
      "name": "python"
    }
  },
  "cells": [
    {
      "cell_type": "code",
      "execution_count": 6,
      "metadata": {
        "colab": {
          "base_uri": "https://localhost:8080/"
        },
        "id": "nm5cemIb8KHG",
        "outputId": "c923c75b-1e5c-42ec-df2b-de5f62a69ec2"
      },
      "outputs": [
        {
          "output_type": "stream",
          "name": "stdout",
          "text": [
            "orginal array : [1 2 3 4 5 6]\n"
          ]
        }
      ],
      "source": [
        "import numpy as np\n",
        "# create an original array\n",
        "orginal_array = np.array([1,2,3,4,5,6])\n",
        "print(\"orginal array :\", orginal_array)"
      ]
    },
    {
      "cell_type": "code",
      "source": [
        "# create a view for the array\n",
        "view_array = orginal_array.view()\n",
        "print(\"view of the orginal array is:\", view_array)"
      ],
      "metadata": {
        "colab": {
          "base_uri": "https://localhost:8080/"
        },
        "id": "TET41Ovq83UC",
        "outputId": "b7ff6082-8714-443f-e8bb-44e8db2eb351"
      },
      "execution_count": 13,
      "outputs": [
        {
          "output_type": "stream",
          "name": "stdout",
          "text": [
            "view of the orginal array is: [1 2 3 4 5 6]\n"
          ]
        }
      ]
    },
    {
      "cell_type": "code",
      "source": [
        "view_array[2] = 30\n",
        "print(\"modified view of th array :\", view_array)\n",
        "print(\"orginal array after modifying the view:\",orginal_array)"
      ],
      "metadata": {
        "colab": {
          "base_uri": "https://localhost:8080/"
        },
        "id": "aT3JxRfn9hL6",
        "outputId": "9ec4211b-f71a-4005-ad48-d84b30d120c3"
      },
      "execution_count": 14,
      "outputs": [
        {
          "output_type": "stream",
          "name": "stdout",
          "text": [
            "modified view of th array : [ 1  2 30  4  5  6]\n",
            "orginal array after modifying the view: [ 1  2 30  4  5  6]\n"
          ]
        }
      ]
    },
    {
      "cell_type": "code",
      "source": [
        "#create a copy of orginal array\n",
        "copy_array =orginal_array.copy()\n",
        "print(\"copy array :\", copy_array)"
      ],
      "metadata": {
        "colab": {
          "base_uri": "https://localhost:8080/"
        },
        "id": "Gz25O1hE-mb5",
        "outputId": "ea8aacfd-c3af-45bc-eb7e-f5963220dbd4"
      },
      "execution_count": 15,
      "outputs": [
        {
          "output_type": "stream",
          "name": "stdout",
          "text": [
            "copy array : [ 1  2 30  4  5  6]\n"
          ]
        }
      ]
    },
    {
      "cell_type": "code",
      "source": [
        "#modify element in copy array\n",
        "copy_array[0] = 10\n",
        "print(\"modified copy array: \",copy_array)\n",
        "print(\"orginal array after modifying the copy array :\", orginal_array)"
      ],
      "metadata": {
        "colab": {
          "base_uri": "https://localhost:8080/"
        },
        "id": "9FceAMWU_IoI",
        "outputId": "f88bc98d-af84-4ac3-9646-e0705e4dd6cf"
      },
      "execution_count": 16,
      "outputs": [
        {
          "output_type": "stream",
          "name": "stdout",
          "text": [
            "modified copy array:  [10  2 30  4  5  6]\n",
            "orginal array after modifying the copy array : [ 1  2 30  4  5  6]\n"
          ]
        }
      ]
    }
  ]
}