{
  "nbformat": 4,
  "nbformat_minor": 0,
  "metadata": {
    "colab": {
      "provenance": []
    },
    "kernelspec": {
      "name": "python3",
      "display_name": "Python 3"
    },
    "language_info": {
      "name": "python"
    }
  },
  "cells": [
    {
      "cell_type": "code",
      "execution_count": 2,
      "metadata": {
        "colab": {
          "base_uri": "https://localhost:8080/"
        },
        "id": "O8m4iwoDtegj",
        "outputId": "6a6ae6c5-8eef-4a86-8ab6-e25ecead5543"
      },
      "outputs": [
        {
          "output_type": "stream",
          "name": "stdout",
          "text": [
            "1D Array :  [1 2 3 4 5]\n"
          ]
        }
      ],
      "source": [
        "import numpy as np\n",
        "# 1-D array\n",
        "array_1D = np.array([1,2,3,4,5])\n",
        "print(\"1D Array : \", array_1D)"
      ]
    },
    {
      "cell_type": "code",
      "source": [
        "#2D array\n",
        "array_2D = np.array([[1,2,3,4,5],[6,7,8,9,10]])\n",
        "print(\"2D Array :\", array_2D)"
      ],
      "metadata": {
        "colab": {
          "base_uri": "https://localhost:8080/"
        },
        "id": "-Bre6F5evhzL",
        "outputId": "0181204e-3acb-4055-e223-b4cd97cd06d0"
      },
      "execution_count": 3,
      "outputs": [
        {
          "output_type": "stream",
          "name": "stdout",
          "text": [
            "2D Array : [[ 1  2  3  4  5]\n",
            " [ 6  7  8  9 10]]\n"
          ]
        }
      ]
    },
    {
      "cell_type": "code",
      "source": [
        "#3D array\n",
        "array_3D = np.array([[1,2,3,4,5],[6,7,8,9,10],[4,5,6,7,2]])\n",
        "print(\"3D Array :\", array_3D)"
      ],
      "metadata": {
        "colab": {
          "base_uri": "https://localhost:8080/"
        },
        "id": "ceT3sCVgwk8y",
        "outputId": "8de94513-f28f-4557-d2e5-19826e741921"
      },
      "execution_count": 4,
      "outputs": [
        {
          "output_type": "stream",
          "name": "stdout",
          "text": [
            "3D Array : [[ 1  2  3  4  5]\n",
            " [ 6  7  8  9 10]\n",
            " [ 4  5  6  7  2]]\n"
          ]
        }
      ]
    },
    {
      "cell_type": "code",
      "source": [
        "#create an array with ones\n",
        "array_ones = np.ones((2,4))\n",
        "print(\"Array with ones :\",array_ones)"
      ],
      "metadata": {
        "colab": {
          "base_uri": "https://localhost:8080/"
        },
        "id": "H3X9HKvkxpHL",
        "outputId": "fd85f0be-22bf-41a8-e24f-bc9f15a86c77"
      },
      "execution_count": 5,
      "outputs": [
        {
          "output_type": "stream",
          "name": "stdout",
          "text": [
            "Array with ones : [[1. 1. 1. 1.]\n",
            " [1. 1. 1. 1.]]\n"
          ]
        }
      ]
    },
    {
      "cell_type": "code",
      "source": [
        "#create an array with zeros\n",
        "array_zeros =np.zeros((3,3))\n",
        "print (\"Array with zeros:\", array_zeros)"
      ],
      "metadata": {
        "colab": {
          "base_uri": "https://localhost:8080/"
        },
        "id": "TAqGLSF_yO1x",
        "outputId": "e44654db-cb82-4962-b27d-7f87255d9a67"
      },
      "execution_count": 6,
      "outputs": [
        {
          "output_type": "stream",
          "name": "stdout",
          "text": [
            "Array with zeros: [[0. 0. 0.]\n",
            " [0. 0. 0.]\n",
            " [0. 0. 0.]]\n"
          ]
        }
      ]
    },
    {
      "cell_type": "code",
      "source": [
        "#create an array with a particular range\n",
        "array_range = np.arange(10)\n",
        "print(\"array with a range:\",array_range)"
      ],
      "metadata": {
        "colab": {
          "base_uri": "https://localhost:8080/"
        },
        "id": "W5ValuNbyofq",
        "outputId": "cda8612d-5751-4413-8fde-ec9c984b8955"
      },
      "execution_count": 7,
      "outputs": [
        {
          "output_type": "stream",
          "name": "stdout",
          "text": [
            "array with a range: [0 1 2 3 4 5 6 7 8 9]\n"
          ]
        }
      ]
    },
    {
      "cell_type": "code",
      "source": [],
      "metadata": {
        "id": "lm0a9DUizefp"
      },
      "execution_count": null,
      "outputs": []
    }
  ]
}