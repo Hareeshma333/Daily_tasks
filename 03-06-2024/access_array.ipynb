{
  "nbformat": 4,
  "nbformat_minor": 0,
  "metadata": {
    "colab": {
      "provenance": []
    },
    "kernelspec": {
      "name": "python3",
      "display_name": "Python 3"
    },
    "language_info": {
      "name": "python"
    }
  },
  "cells": [
    {
      "cell_type": "code",
      "execution_count": 1,
      "metadata": {
        "colab": {
          "base_uri": "https://localhost:8080/"
        },
        "id": "C51MBOxrzkzi",
        "outputId": "83b98d22-003b-4e5d-e7d7-899e7977a974"
      },
      "outputs": [
        {
          "output_type": "stream",
          "name": "stdout",
          "text": [
            "element at the index of [1,2] 6\n"
          ]
        }
      ],
      "source": [
        "import numpy as np\n",
        "array_2D = np.array([[1,2,3],[4,5,6]])\n",
        "\n",
        "#accessing a single element\n",
        "element = array_2D[1,2]\n",
        "print(\"element at the index of [1,2]\", element)"
      ]
    },
    {
      "cell_type": "code",
      "source": [
        "#access by 2 row\n",
        "row = array_2D[1:]\n",
        "print(\"second row:\",row)"
      ],
      "metadata": {
        "colab": {
          "base_uri": "https://localhost:8080/"
        },
        "id": "ISvwW9dX2uq-",
        "outputId": "77480c52-672b-4b0f-90f3-ba05766b7dc2"
      },
      "execution_count": 2,
      "outputs": [
        {
          "output_type": "stream",
          "name": "stdout",
          "text": [
            "second row: [[4 5 6]]\n"
          ]
        }
      ]
    },
    {
      "cell_type": "code",
      "source": [
        "#access by 1 row\n",
        "# : symbol refers to entire rows\n",
        "row = array_2D[0,:]\n",
        "print(\"first row:\",row)"
      ],
      "metadata": {
        "colab": {
          "base_uri": "https://localhost:8080/"
        },
        "id": "Vwx9m1WE3bQE",
        "outputId": "73fa40fd-e4cb-47b6-821f-65b8f586cca9"
      },
      "execution_count": 8,
      "outputs": [
        {
          "output_type": "stream",
          "name": "stdout",
          "text": [
            "first row: [1 2 3]\n"
          ]
        }
      ]
    },
    {
      "cell_type": "code",
      "source": [
        "column = array_2D[:,1]\n",
        "print(\"second column:\", column)\n"
      ],
      "metadata": {
        "colab": {
          "base_uri": "https://localhost:8080/"
        },
        "id": "nBKYOFGu35sF",
        "outputId": "53a91bcb-ef2a-400d-d378-416c87ee55f0"
      },
      "execution_count": 4,
      "outputs": [
        {
          "output_type": "stream",
          "name": "stdout",
          "text": [
            "second column: [2 5]\n"
          ]
        }
      ]
    },
    {
      "cell_type": "code",
      "source": [
        "#slicing\n",
        "slice_array = array_2D[0:2,1:3]\n",
        "print(\"subarray:\", slice_array)"
      ],
      "metadata": {
        "colab": {
          "base_uri": "https://localhost:8080/"
        },
        "id": "_f3l8OEc5ytr",
        "outputId": "86249d5b-610e-465d-deeb-6fd430725fa0"
      },
      "execution_count": 9,
      "outputs": [
        {
          "output_type": "stream",
          "name": "stdout",
          "text": [
            "subarray: [[2 3]\n",
            " [5 6]]\n"
          ]
        }
      ]
    }
  ]
}