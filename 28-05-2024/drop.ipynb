{
  "nbformat": 4,
  "nbformat_minor": 0,
  "metadata": {
    "colab": {
      "provenance": []
    },
    "kernelspec": {
      "name": "python3",
      "display_name": "Python 3"
    },
    "language_info": {
      "name": "python"
    }
  },
  "cells": [
    {
      "cell_type": "code",
      "execution_count": 3,
      "metadata": {
        "colab": {
          "base_uri": "https://localhost:8080/"
        },
        "id": "ELvVjzMu6AGR",
        "outputId": "e40e49f5-d02e-4c9e-97a7-b61578fad808"
      },
      "outputs": [
        {
          "output_type": "stream",
          "name": "stdout",
          "text": [
            "       Name   Age      Place   Salary  emptycolumn\n",
            "0   kingini  20.0     kannur  20000.0          NaN\n",
            "1     tuttu  23.0    calicut  45000.0          NaN\n",
            "2    chinnu  23.0  kolathara  25000.0          NaN\n",
            "3     dhamu  23.0    calicut  15000.0          NaN\n",
            "4      ikka  24.0    calicut  45000.0          NaN\n",
            "5      Angu  24.0    calicut  54000.0          NaN\n",
            "6  Kuttappi  23.0    calicut  61000.0          NaN\n",
            "7       NaN   NaN        NaN      NaN          NaN\n"
          ]
        }
      ],
      "source": [
        "import pandas as pd\n",
        "df=pd.read_csv('new.csv')\n",
        "print(df)\n"
      ]
    },
    {
      "cell_type": "code",
      "source": [
        "df_cleaned_row=df.dropna(how='all')\n",
        "print(df_cleaned_row)\n",
        "\n"
      ],
      "metadata": {
        "colab": {
          "base_uri": "https://localhost:8080/"
        },
        "id": "gfRE9yYA6Z3w",
        "outputId": "530b9006-be29-4ad0-cb93-0e3148aaed5e"
      },
      "execution_count": 4,
      "outputs": [
        {
          "output_type": "stream",
          "name": "stdout",
          "text": [
            "       Name   Age      Place   Salary  emptycolumn\n",
            "0   kingini  20.0     kannur  20000.0          NaN\n",
            "1     tuttu  23.0    calicut  45000.0          NaN\n",
            "2    chinnu  23.0  kolathara  25000.0          NaN\n",
            "3     dhamu  23.0    calicut  15000.0          NaN\n",
            "4      ikka  24.0    calicut  45000.0          NaN\n",
            "5      Angu  24.0    calicut  54000.0          NaN\n",
            "6  Kuttappi  23.0    calicut  61000.0          NaN\n"
          ]
        }
      ]
    },
    {
      "cell_type": "code",
      "source": [
        "df_cleaned_col = df.dropna(axis=1, how='all')\n",
        "print(df_cleaned_col)\n",
        "\n"
      ],
      "metadata": {
        "colab": {
          "base_uri": "https://localhost:8080/"
        },
        "id": "eYw4eeBq6dRW",
        "outputId": "a0a27266-cce5-4919-9da3-4581f4249c3d"
      },
      "execution_count": 5,
      "outputs": [
        {
          "output_type": "stream",
          "name": "stdout",
          "text": [
            "       Name   Age      Place   Salary\n",
            "0   kingini  20.0     kannur  20000.0\n",
            "1     tuttu  23.0    calicut  45000.0\n",
            "2    chinnu  23.0  kolathara  25000.0\n",
            "3     dhamu  23.0    calicut  15000.0\n",
            "4      ikka  24.0    calicut  45000.0\n",
            "5      Angu  24.0    calicut  54000.0\n",
            "6  Kuttappi  23.0    calicut  61000.0\n",
            "7       NaN   NaN        NaN      NaN\n"
          ]
        }
      ]
    },
    {
      "cell_type": "code",
      "source": [
        "df_filled_data=df.fillna(0)\n",
        "print(df_filled_data)"
      ],
      "metadata": {
        "colab": {
          "base_uri": "https://localhost:8080/"
        },
        "id": "uARaFiUp6gxG",
        "outputId": "7112b9ed-5cba-45dc-c461-054f56c54d38"
      },
      "execution_count": 6,
      "outputs": [
        {
          "output_type": "stream",
          "name": "stdout",
          "text": [
            "       Name   Age      Place   Salary  emptycolumn\n",
            "0   kingini  20.0     kannur  20000.0          0.0\n",
            "1     tuttu  23.0    calicut  45000.0          0.0\n",
            "2    chinnu  23.0  kolathara  25000.0          0.0\n",
            "3     dhamu  23.0    calicut  15000.0          0.0\n",
            "4      ikka  24.0    calicut  45000.0          0.0\n",
            "5      Angu  24.0    calicut  54000.0          0.0\n",
            "6  Kuttappi  23.0    calicut  61000.0          0.0\n",
            "7         0   0.0          0      0.0          0.0\n"
          ]
        }
      ]
    }
  ]
}