{
  "nbformat": 4,
  "nbformat_minor": 0,
  "metadata": {
    "colab": {
      "provenance": []
    },
    "kernelspec": {
      "name": "python3",
      "display_name": "Python 3"
    },
    "language_info": {
      "name": "python"
    }
  },
  "cells": [
    {
      "cell_type": "code",
      "execution_count": 1,
      "metadata": {
        "colab": {
          "base_uri": "https://localhost:8080/"
        },
        "id": "jKMJYN-Z6YEt",
        "outputId": "9dd15f31-a1fe-4ce1-8d5b-e48734e47163"
      },
      "outputs": [
        {
          "output_type": "stream",
          "name": "stdout",
          "text": [
            "0    10\n",
            "1     2\n",
            "2     3\n",
            "3    45\n",
            "4    65\n",
            "dtype: int64\n"
          ]
        }
      ],
      "source": [
        "import pandas as pd\n",
        "data = [10,2,3,45,65]\n",
        "series = pd.Series(data)\n",
        "\n",
        "print(series)"
      ]
    },
    {
      "cell_type": "code",
      "source": [
        "#dictionary\n",
        "series_dic = pd.Series({'a':1,'b':2,'c':3})\n",
        "print(series_dic)\n"
      ],
      "metadata": {
        "colab": {
          "base_uri": "https://localhost:8080/"
        },
        "id": "LPBen1327G5w",
        "outputId": "178b76da-481e-4547-d770-a69af800697a"
      },
      "execution_count": 3,
      "outputs": [
        {
          "output_type": "stream",
          "name": "stdout",
          "text": [
            "a    1\n",
            "b    2\n",
            "c    3\n",
            "dtype: int64\n"
          ]
        }
      ]
    },
    {
      "cell_type": "code",
      "source": [
        "#print particular element form the series\n",
        "print(series[4])\n"
      ],
      "metadata": {
        "colab": {
          "base_uri": "https://localhost:8080/"
        },
        "id": "8uPtH_QE8SZH",
        "outputId": "800569d2-9740-4051-8682-7465fa0f9b1d"
      },
      "execution_count": 4,
      "outputs": [
        {
          "output_type": "stream",
          "name": "stdout",
          "text": [
            "65\n"
          ]
        }
      ]
    },
    {
      "cell_type": "code",
      "source": [
        "#arithmetic operation\n",
        "series_add = series + 10\n",
        "print(series_add)"
      ],
      "metadata": {
        "colab": {
          "base_uri": "https://localhost:8080/"
        },
        "id": "k9xk3vn98teY",
        "outputId": "38754619-052b-4fda-a290-a70c431c240e"
      },
      "execution_count": 5,
      "outputs": [
        {
          "output_type": "stream",
          "name": "stdout",
          "text": [
            "0    20\n",
            "1    12\n",
            "2    13\n",
            "3    55\n",
            "4    75\n",
            "dtype: int64\n"
          ]
        }
      ]
    },
    {
      "cell_type": "code",
      "source": [
        "#filter elememnts in the series\n",
        "filtered_series = series[series>20]\n",
        "print(filtered_series)"
      ],
      "metadata": {
        "colab": {
          "base_uri": "https://localhost:8080/"
        },
        "id": "aztQX1of9H_v",
        "outputId": "b42bd1c2-5d6c-4fe5-f802-215e710843bb"
      },
      "execution_count": 6,
      "outputs": [
        {
          "output_type": "stream",
          "name": "stdout",
          "text": [
            "3    45\n",
            "4    65\n",
            "dtype: int64\n"
          ]
        }
      ]
    },
    {
      "cell_type": "code",
      "source": [
        "#statical method\n",
        "mean = series.mean()\n",
        "print(f\"the mean value of the series is {mean}\")"
      ],
      "metadata": {
        "colab": {
          "base_uri": "https://localhost:8080/"
        },
        "id": "Pqo235_h96XG",
        "outputId": "28fdbbe7-b404-4165-8374-2f7c391c0ab8"
      },
      "execution_count": 7,
      "outputs": [
        {
          "output_type": "stream",
          "name": "stdout",
          "text": [
            "the mean value of the series is 25.0\n"
          ]
        }
      ]
    }
  ]
}