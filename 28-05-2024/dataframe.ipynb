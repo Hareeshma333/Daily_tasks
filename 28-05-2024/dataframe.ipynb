{
  "nbformat": 4,
  "nbformat_minor": 0,
  "metadata": {
    "colab": {
      "provenance": []
    },
    "kernelspec": {
      "name": "python3",
      "display_name": "Python 3"
    },
    "language_info": {
      "name": "python"
    }
  },
  "cells": [
    {
      "cell_type": "code",
      "execution_count": 29,
      "metadata": {
        "colab": {
          "base_uri": "https://localhost:8080/"
        },
        "id": "CKRebfd1ANoc",
        "outputId": "82951dfc-e529-4540-88cb-fcd398fd466c"
      },
      "outputs": [
        {
          "output_type": "stream",
          "name": "stdout",
          "text": [
            "        Name  Age          Place\n",
            "0  hareeshma   22     pothencode\n",
            "1      ankit   24       hamidpur\n",
            "2     reshma   25  VAVARAAMBALAM\n"
          ]
        }
      ],
      "source": [
        "import pandas as pd\n",
        "data = {\n",
        "    'Name':['hareeshma','ankit','reshma'],\n",
        "    'Age' :[22,24,25],\n",
        "    'Place':['pothencode','hamidpur','VAVARAAMBALAM']\n",
        "}\n",
        "df = pd.DataFrame(data)\n",
        "print(df)"
      ]
    },
    {
      "cell_type": "code",
      "source": [
        "print(df['Name'])"
      ],
      "metadata": {
        "colab": {
          "base_uri": "https://localhost:8080/"
        },
        "id": "lsIxJmQwD0y5",
        "outputId": "fabc678f-a458-41a2-bb3b-c1ee0380620e"
      },
      "execution_count": 30,
      "outputs": [
        {
          "output_type": "stream",
          "name": "stdout",
          "text": [
            "0    hareeshma\n",
            "1        ankit\n",
            "2       reshma\n",
            "Name: Name, dtype: object\n"
          ]
        }
      ]
    },
    {
      "cell_type": "code",
      "source": [
        "print(df[['Name','Place']])"
      ],
      "metadata": {
        "colab": {
          "base_uri": "https://localhost:8080/"
        },
        "id": "wD6-h3OmENjJ",
        "outputId": "c8fc5ea4-c2ae-48f3-b7a4-738e9e1e6dc0"
      },
      "execution_count": 31,
      "outputs": [
        {
          "output_type": "stream",
          "name": "stdout",
          "text": [
            "        Name          Place\n",
            "0  hareeshma     pothencode\n",
            "1      ankit       hamidpur\n",
            "2     reshma  VAVARAAMBALAM\n"
          ]
        }
      ]
    },
    {
      "cell_type": "code",
      "source": [
        "#for accessing each row from the dataframe we need to use inbuild function\n",
        "print(df.iloc[2])"
      ],
      "metadata": {
        "colab": {
          "base_uri": "https://localhost:8080/"
        },
        "id": "86oy3UGhEhqK",
        "outputId": "a4c41d82-3fcc-4ced-ef59-604b9192aaf6"
      },
      "execution_count": 32,
      "outputs": [
        {
          "output_type": "stream",
          "name": "stdout",
          "text": [
            "Name            reshma\n",
            "Age                 25\n",
            "Place    VAVARAAMBALAM\n",
            "Name: 2, dtype: object\n"
          ]
        }
      ]
    },
    {
      "cell_type": "code",
      "source": [
        "print(df[df['Age']>23])"
      ],
      "metadata": {
        "colab": {
          "base_uri": "https://localhost:8080/"
        },
        "id": "Kx7fcDNGFHf4",
        "outputId": "6d05e116-b228-4465-ebb1-b5122690531e"
      },
      "execution_count": 33,
      "outputs": [
        {
          "output_type": "stream",
          "name": "stdout",
          "text": [
            "     Name  Age          Place\n",
            "1   ankit   24       hamidpur\n",
            "2  reshma   25  VAVARAAMBALAM\n"
          ]
        }
      ]
    },
    {
      "cell_type": "code",
      "source": [
        "#add a new column into the dataframe\n",
        "df['stiphend'] = [15000,5000,5000]\n",
        "print(df)"
      ],
      "metadata": {
        "colab": {
          "base_uri": "https://localhost:8080/"
        },
        "id": "vpxBAvMIcLj0",
        "outputId": "70b9d67d-acf8-4b3d-842f-e04aac702f2e"
      },
      "execution_count": 34,
      "outputs": [
        {
          "output_type": "stream",
          "name": "stdout",
          "text": [
            "        Name  Age          Place  stiphend\n",
            "0  hareeshma   22     pothencode     15000\n",
            "1      ankit   24       hamidpur      5000\n",
            "2     reshma   25  VAVARAAMBALAM      5000\n"
          ]
        }
      ]
    },
    {
      "cell_type": "code",
      "source": [
        "#remove\n",
        "df = df.drop(columns=['Age'])\n",
        "print(df)"
      ],
      "metadata": {
        "colab": {
          "base_uri": "https://localhost:8080/"
        },
        "id": "5ctdxJ1Bc2kn",
        "outputId": "67e4981c-b96d-4ccd-b60d-c0412f2cd583"
      },
      "execution_count": 35,
      "outputs": [
        {
          "output_type": "stream",
          "name": "stdout",
          "text": [
            "        Name          Place  stiphend\n",
            "0  hareeshma     pothencode     15000\n",
            "1      ankit       hamidpur      5000\n",
            "2     reshma  VAVARAAMBALAM      5000\n"
          ]
        }
      ]
    },
    {
      "cell_type": "code",
      "source": [
        "#statical function\n",
        "print(df.describe())"
      ],
      "metadata": {
        "colab": {
          "base_uri": "https://localhost:8080/"
        },
        "id": "4LUNX4OydbUl",
        "outputId": "b01ad6fd-dd17-42de-dd01-262b71857f84"
      },
      "execution_count": 36,
      "outputs": [
        {
          "output_type": "stream",
          "name": "stdout",
          "text": [
            "           stiphend\n",
            "count      3.000000\n",
            "mean    8333.333333\n",
            "std     5773.502692\n",
            "min     5000.000000\n",
            "25%     5000.000000\n",
            "50%     5000.000000\n",
            "75%    10000.000000\n",
            "max    15000.000000\n"
          ]
        }
      ]
    }
  ]
}